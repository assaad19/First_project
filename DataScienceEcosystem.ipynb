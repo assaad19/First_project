{
  "nbformat": 4,
  "nbformat_minor": 0,
  "metadata": {
    "colab": {
      "provenance": [],
      "authorship_tag": "ABX9TyP3/dbzVtVHM3KSysvHh839",
      "include_colab_link": true
    },
    "kernelspec": {
      "name": "python3",
      "display_name": "Python 3"
    },
    "language_info": {
      "name": "python"
    }
  },
  "cells": [
    {
      "cell_type": "markdown",
      "metadata": {
        "id": "view-in-github",
        "colab_type": "text"
      },
      "source": [
        "<a href=\"https://colab.research.google.com/github/assaad19/First_project/blob/newbranch/DataScienceEcosystem.ipynb\" target=\"_parent\"><img src=\"https://colab.research.google.com/assets/colab-badge.svg\" alt=\"Open In Colab\"/></a>"
      ]
    },
    {
      "cell_type": "markdown",
      "source": [
        "#Data Science Tools and Ecosystem"
      ],
      "metadata": {
        "id": "DvC4B7rRGCvb"
      }
    },
    {
      "cell_type": "markdown",
      "source": [
        "In this notebook, Data Science Tools and Ecosystem are summarized.\n"
      ],
      "metadata": {
        "id": "Bq3ZtlAkG0af"
      }
    },
    {
      "cell_type": "markdown",
      "source": [
        "Some of the popular languages that Data Scientists use are:\n",
        "<ol type=\"1\">\n",
        "<li>Python\n",
        "<li>R\n",
        "<li>Matlab\n",
        "\n"
      ],
      "metadata": {
        "id": "_lHbUgk5HGm-"
      }
    },
    {
      "cell_type": "markdown",
      "source": [
        "Some of the commonly used libraries used by Data Scientists include:\n",
        "<ol type=\"1\">\n",
        "<li>Matplotlib\n",
        "<li>Scikit-learn\n",
        "<li>Plotly"
      ],
      "metadata": {
        "id": "cwCY1NmEIGxV"
      }
    },
    {
      "cell_type": "markdown",
      "source": [
        "**Objectives:**\n",
        "\n",
        "- List popular languages for Data Science.\n",
        "- List popular Data science tools.\n",
        "- How to run an arithmetic code cell.\n",
        "- Coverting minutes to hour\n",
        "- Some commonly used libraries used in data science\n"
      ],
      "metadata": {
        "id": "5uyht2K3LFT4"
      }
    },
    {
      "cell_type": "markdown",
      "source": [
        "| Data Science Tools     |\n",
        "|------------------------|\n",
        "| Jupyter Notebook       |\n",
        "| RStudio                |\n",
        "| Visual Studio Code     |\n",
        "\n",
        "### Below are a few examples of evaluating arithmetic expressions in Python.\n"
      ],
      "metadata": {
        "id": "iswyS4lpJFqE"
      }
    },
    {
      "cell_type": "code",
      "source": [
        "# This is a simple arithmetic expression to multiply then add integers.\n",
        "result = (3*4)+5\n",
        "result\n"
      ],
      "metadata": {
        "colab": {
          "base_uri": "https://localhost:8080/"
        },
        "id": "PrZ7zW3qJpMj",
        "outputId": "3e3535e1-d16c-40f9-97e6-2e29a9360c8a"
      },
      "execution_count": 1,
      "outputs": [
        {
          "output_type": "execute_result",
          "data": {
            "text/plain": [
              "17"
            ]
          },
          "metadata": {},
          "execution_count": 1
        }
      ]
    },
    {
      "cell_type": "code",
      "source": [
        "# This will convert 200 minutes to hours by dividing by 60.\n",
        "minutes = 200\n",
        "hours = minutes / 60\n",
        "hours\n"
      ],
      "metadata": {
        "colab": {
          "base_uri": "https://localhost:8080/"
        },
        "id": "3-sMeAsGJ2eD",
        "outputId": "aa0f981d-7dcc-4fe3-b48c-9d9e47ddb224"
      },
      "execution_count": 2,
      "outputs": [
        {
          "output_type": "execute_result",
          "data": {
            "text/plain": [
              "3.3333333333333335"
            ]
          },
          "metadata": {},
          "execution_count": 2
        }
      ]
    },
    {
      "cell_type": "markdown",
      "source": [
        "##Author\n",
        "Assaad Akl"
      ],
      "metadata": {
        "id": "zZwlEhUFMRRE"
      }
    }
  ]
}